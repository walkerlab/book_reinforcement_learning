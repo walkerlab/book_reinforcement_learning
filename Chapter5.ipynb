{
 "cells": [
  {
   "cell_type": "code",
   "execution_count": 76,
   "metadata": {},
   "outputs": [
    {
     "name": "stdout",
     "output_type": "stream",
     "text": [
      "The autoreload extension is already loaded. To reload it, use:\n",
      "  %reload_ext autoreload\n"
     ]
    }
   ],
   "source": [
    "%load_ext autoreload\n",
    "%autoreload 2\n",
    "\n",
    "import numpy as np\n",
    "import matplotlib.pyplot as plt\n",
    "import random\n",
    "import seaborn as sns\n",
    "\n",
    "sns.set_style('ticks')\n",
    "\n",
    "from tqdm import tqdm\n",
    "from itertools import (count, product)\n",
    "from scipy.stats import poisson\n",
    "from black_jack_env import BlackJackEnv, calc_hand_value_usable_ace\n",
    "from black_jack_agent import BlackJackAgent, get_state_idx"
   ]
  },
  {
   "cell_type": "code",
   "execution_count": 98,
   "metadata": {},
   "outputs": [],
   "source": [
    "## Training Loop\n",
    "\n",
    "epsilon = 0.05\n",
    "#initialization\n",
    "policy = np.ones((2, 200)) * 0.5\n",
    "q = np.zeros((2, 200))\n",
    "\n",
    "# loop\n",
    "for ep_idx in range(1000):\n",
    "    agent = BlackJackAgent(policy)\n",
    "    env = BlackJackEnv(seed=None)\n",
    "    result, player_hand, dealer_card = env.deal_cards()\n",
    "    state_idxs = []\n",
    "    actions = []\n",
    "    while result is None:\n",
    "        player_value, num_aces = calc_hand_value_usable_ace(player_hand)\n",
    "        has_usable_ace = num_aces > 0\n",
    "        state_idx = get_state_idx(has_usable_ace, player_value, dealer_card)\n",
    "        action = agent.take_action(state_idx)\n",
    "        state_idxs.append(state_idx)\n",
    "        actions.append(action)\n",
    "        if action == 0:\n",
    "            # this is hit\n",
    "            result, player_hand = env.hit()\n",
    "        else:\n",
    "            result = env.stick()\n",
    "    for state_idx, action in zip(state_idxs, actions):\n",
    "        q_new = (q[action, state_idx] * ep_idx + result) / (ep_idx + 1)\n",
    "        q[action, state_idx] = q_new\n",
    "        a_star = np.argmax(q[:, state_idx])\n",
    "        policy[:, state_idx] = epsilon / 2\n",
    "        policy[a_star, state_idx] = 1 - epsilon + epsilon / 2\n",
    "    \n",
    "    "
   ]
  }
 ],
 "metadata": {
  "kernelspec": {
   "display_name": "Python 3.8.10 64-bit",
   "language": "python",
   "name": "python3"
  },
  "language_info": {
   "codemirror_mode": {
    "name": "ipython",
    "version": 3
   },
   "file_extension": ".py",
   "mimetype": "text/x-python",
   "name": "python",
   "nbconvert_exporter": "python",
   "pygments_lexer": "ipython3",
   "version": "3.8.10"
  },
  "orig_nbformat": 4,
  "vscode": {
   "interpreter": {
    "hash": "31f2aee4e71d21fbe5cf8b01ff0e069b9275f58929596ceb00d14d90e3e16cd6"
   }
  }
 },
 "nbformat": 4,
 "nbformat_minor": 2
}
